{
 "cells": [
  {
   "cell_type": "code",
   "execution_count": 50,
   "metadata": {},
   "outputs": [
    {
     "name": "stdout",
     "output_type": "stream",
     "text": [
      "4452025104 4452028304\n"
     ]
    }
   ],
   "source": [
    "import pandas as pd\n",
    "import numpy as np\n",
    "data = np.random.rand(2,2)  # create 2*2 marix as uniform(0,1)\n",
    "data = np.random.randn(2,2) # create 2*2 matrix as normal(0,1)\n",
    "df1 = pd.DataFrame((np.random.randn(5,6)*10).astype(int))\n",
    "df2 = pd.DataFrame.copy(df1)\n",
    "print id(df1), id(df2)\n",
    "df2.index = list('23456')\n",
    "df2.columns = list('ABCDEF')\n",
    "# display(df1,df2)"
   ]
  },
  {
   "cell_type": "code",
   "execution_count": 85,
   "metadata": {},
   "outputs": [
    {
     "name": "stdout",
     "output_type": "stream",
     "text": [
      "[True, False, True, True, False]\n"
     ]
    },
    {
     "data": {
      "text/plain": [
       "0.59999999999999998"
      ]
     },
     "execution_count": 85,
     "metadata": {},
     "output_type": "execute_result"
    }
   ],
   "source": [
    "df3 = pd.Series(list(np.random.randn(5,1)))\n",
    "df4 = pd.Series(list(np.random.randn(5,1)))\n",
    "a = [np.random.choice([True,False]) for i in range(5)]\n",
    "print a\n",
    "df5 = pd.Series(a)\n",
    "df5.mean()"
   ]
  },
  {
   "cell_type": "code",
   "execution_count": 94,
   "metadata": {},
   "outputs": [
    {
     "name": "stdout",
     "output_type": "stream",
     "text": [
      "<class 'pandas.core.frame.DataFrame'>\n",
      "False\n"
     ]
    }
   ],
   "source": [
    "a = [1,2]\n",
    "print type(df2)\n",
    "print isinstance(df3,pd.DataFrame)"
   ]
  },
  {
   "cell_type": "code",
   "execution_count": null,
   "metadata": {
    "collapsed": true
   },
   "outputs": [],
   "source": []
  }
 ],
 "metadata": {
  "kernelspec": {
   "display_name": "Python 2",
   "language": "python",
   "name": "python2"
  },
  "language_info": {
   "codemirror_mode": {
    "name": "ipython",
    "version": 2
   },
   "file_extension": ".py",
   "mimetype": "text/x-python",
   "name": "python",
   "nbconvert_exporter": "python",
   "pygments_lexer": "ipython2",
   "version": "2.7.13"
  }
 },
 "nbformat": 4,
 "nbformat_minor": 2
}
